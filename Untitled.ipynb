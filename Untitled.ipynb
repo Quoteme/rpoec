{
 "cells": [
  {
   "cell_type": "code",
   "execution_count": 3,
   "id": "fbb6ed89-5219-464c-b7ad-20feeb796de4",
   "metadata": {},
   "outputs": [],
   "source": [
    "from sympy import *"
   ]
  },
  {
   "cell_type": "code",
   "execution_count": 12,
   "id": "e3473568-ebdc-43f3-bf76-06fe1bab5e98",
   "metadata": {},
   "outputs": [],
   "source": [
    "u,v = symbols('u,v')\n",
    "a = Symbol('\\\\alpha')\n",
    "x = 12*a/(u+v)\n",
    "y = 36*a*(u-v)/(u+v)"
   ]
  },
  {
   "cell_type": "code",
   "execution_count": 28,
   "id": "e9615762-55fd-4da4-8be5-375dd5602d5b",
   "metadata": {},
   "outputs": [
    {
     "data": {
      "text/latex": [
       "$\\displaystyle - \\frac{1728 \\alpha^{3}}{\\left(u + v\\right)^{3}} + \\frac{1296 \\alpha^{2} \\left(u - v\\right)^{2}}{\\left(u + v\\right)^{2}} + 432 \\alpha^{2}$"
      ],
      "text/plain": [
       "-1728*\\alpha**3/(u + v)**3 + 1296*\\alpha**2*(u - v)**2/(u + v)**2 + 432*\\alpha**2"
      ]
     },
     "metadata": {},
     "output_type": "display_data"
    },
    {
     "name": "stdout",
     "output_type": "stream",
     "text": [
      "---\n"
     ]
    },
    {
     "data": {
      "text/latex": [
       "$\\displaystyle - \\frac{1728 \\alpha^{3}}{u^{3} + 3 u^{2} v + 3 u v^{2} + v^{3}} + \\frac{1296 \\alpha^{2} u^{2}}{u^{2} + 2 u v + v^{2}} - \\frac{2592 \\alpha^{2} u v}{u^{2} + 2 u v + v^{2}} + \\frac{1296 \\alpha^{2} v^{2}}{u^{2} + 2 u v + v^{2}} + 432 \\alpha^{2}$"
      ],
      "text/plain": [
       "-1728*\\alpha**3/(u**3 + 3*u**2*v + 3*u*v**2 + v**3) + 1296*\\alpha**2*u**2/(u**2 + 2*u*v + v**2) - 2592*\\alpha**2*u*v/(u**2 + 2*u*v + v**2) + 1296*\\alpha**2*v**2/(u**2 + 2*u*v + v**2) + 432*\\alpha**2"
      ]
     },
     "metadata": {},
     "output_type": "display_data"
    },
    {
     "name": "stdout",
     "output_type": "stream",
     "text": [
      "---\n"
     ]
    },
    {
     "data": {
      "text/latex": [
       "$\\displaystyle \\frac{1728 \\alpha^{2} \\left(- \\alpha + u^{3} + v^{3}\\right)}{u^{3} + 3 u^{2} v + 3 u v^{2} + v^{3}}$"
      ],
      "text/plain": [
       "1728*\\alpha**2*(-\\alpha + u**3 + v**3)/(u**3 + 3*u**2*v + 3*u*v**2 + v**3)"
      ]
     },
     "metadata": {},
     "output_type": "display_data"
    }
   ],
   "source": [
    "E = (y**2-x**3+432*a**2)\n",
    "display(E)\n",
    "print(\"---\")\n",
    "display(E.expand())\n",
    "print(\"---\")\n",
    "display(E.expand().simplify())"
   ]
  },
  {
   "cell_type": "code",
   "execution_count": 33,
   "id": "925c2ef7-9afd-48f2-ae6b-4b0a1203db04",
   "metadata": {},
   "outputs": [
    {
     "data": {
      "text/plain": [
       "'\\\\frac{1728 \\\\alpha^{2} \\\\left(- \\\\alpha + u^{3} + v^{3}\\\\right)}{u^{3} + 3 u^{2} v + 3 u v^{2} + v^{3}}'"
      ]
     },
     "execution_count": 33,
     "metadata": {},
     "output_type": "execute_result"
    }
   ],
   "source": [
    "latex(E.expand().simplify())"
   ]
  }
 ],
 "metadata": {
  "kernelspec": {
   "display_name": "Python 3",
   "language": "python",
   "name": "python3"
  },
  "language_info": {
   "codemirror_mode": {
    "name": "ipython",
    "version": 3
   },
   "file_extension": ".py",
   "mimetype": "text/x-python",
   "name": "python",
   "nbconvert_exporter": "python",
   "pygments_lexer": "ipython3",
   "version": "3.9.5"
  }
 },
 "nbformat": 4,
 "nbformat_minor": 5
}
